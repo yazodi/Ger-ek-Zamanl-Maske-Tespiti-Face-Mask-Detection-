{
 "cells": [
  {
   "cell_type": "markdown",
   "id": "910df5c4-26b4-46ac-a56c-5f19ea3c1eb0",
   "metadata": {},
   "source": [
    "## Proje Adı: Gerçek Zamanlı Maske Tespiti (Face Mask Detection)"
   ]
  },
  {
   "cell_type": "markdown",
   "id": "3ad9b2ee-da18-4d2c-a991-5e5017def3e4",
   "metadata": {},
   "source": [
    "## Amaç:\n",
    "Kameradan alınan görüntülerde kişilerin yüzlerini algılayıp, maske takıp takmadıklarını sınıflandıran bir sistem geliştirmek."
   ]
  },
  {
   "cell_type": "markdown",
   "id": "37e2d9fb-3228-4dd7-82bb-7bbbd9ed8537",
   "metadata": {},
   "source": [
    " ## Projede Yer Alacaklar:"
   ]
  },
  {
   "cell_type": "raw",
   "id": "4d9496a7-71fe-44f5-9819-842099cbd271",
   "metadata": {},
   "source": [
    "Özellik\tAçıklama\n",
    "📷 Kamera Kullanımı\tWebcam'den anlık görüntü alınır\n",
    "🧠 Model Kullanımı\tHazır eğitimli derin öğrenme modeli (Keras veya OpenCV DNN) ile sınıflandırma yapılır\n",
    "🎨 Görüntü İşleme\tYüz tespiti, renkli çerçeve, metin gösterimi\n",
    "💾 Görüntü Kaydı\tMaske takmayanların ekran görüntüsü otomatik kaydedilir\n",
    "📄 GitHub README\tTürkçe ve İngilizce açıklamalı dosya hazırlanacak"
   ]
  },
  {
   "cell_type": "raw",
   "id": "0582a4e1-22df-4c76-a2c6-5c5d515e9f98",
   "metadata": {},
   "source": [
    "klasör yapısı \n",
    "mask-detector/\n",
    "│\n",
    "├── mask_detector.py              # Ana Python kodu\n",
    "├── mask_detector_model.h5        # Eğitimli model dosyası\n",
    "├── haarcascade_frontalface.xml   # Yüz algılama için XML\n",
    "├── screenshots/                  # Kayıtlı maskesiz görüntüler\n",
    "└── README.md                     # Proje açıklaması"
   ]
  },
  {
   "cell_type": "markdown",
   "id": "c2a70741-c5cc-4b48-a57f-66eb1dfbb81e",
   "metadata": {},
   "source": []
  },
  {
   "cell_type": "markdown",
   "id": "1ceeebdf-cc75-4f56-9913-dd97df309b0c",
   "metadata": {},
   "source": []
  },
  {
   "cell_type": "code",
   "execution_count": 2,
   "id": "605f43ae-ee01-4598-8626-a9dbd35e5437",
   "metadata": {},
   "outputs": [],
   "source": [
    "# pip install opencv-python tensorflow keras imutils numpy"
   ]
  },
  {
   "cell_type": "markdown",
   "id": "191d99d6-0f7b-430a-9a7f-0e42b02f6b99",
   "metadata": {},
   "source": [
    "Kamerayı açar\n",
    "\n",
    "Yüzleri algılar\n",
    "\n",
    "Modelle maske takılı mı kontrol eder\n",
    "\n",
    "Ekrana sonucu yazdırır\n",
    "\n",
    "Maske yoksa ekran görüntüsünü kaydeder"
   ]
  }
 ],
 "metadata": {
  "kernelspec": {
   "display_name": "Python 3 (ipykernel)",
   "language": "python",
   "name": "python3"
  },
  "language_info": {
   "codemirror_mode": {
    "name": "ipython",
    "version": 3
   },
   "file_extension": ".py",
   "mimetype": "text/x-python",
   "name": "python",
   "nbconvert_exporter": "python",
   "pygments_lexer": "ipython3",
   "version": "3.12.9"
  }
 },
 "nbformat": 4,
 "nbformat_minor": 5
}
